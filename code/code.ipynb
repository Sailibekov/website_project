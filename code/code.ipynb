{
 "cells": [
  {
   "cell_type": "code",
   "execution_count": 1,
   "metadata": {},
   "outputs": [],
   "source": [
    "import pandas as pd\n",
    "import altair as alt\n",
    "alt.data_transformers.disable_max_rows()\n",
    "import plotly.graph_objects as go\n",
    "import seaborn as sns\n",
    "import matplotlib.pyplot as plt"
   ]
  },
  {
   "cell_type": "code",
   "execution_count": 2,
   "metadata": {},
   "outputs": [],
   "source": [
    "df = pd.read_csv('../StudentPerformanceFactors.csv')"
   ]
  },
  {
   "cell_type": "code",
   "execution_count": 3,
   "metadata": {},
   "outputs": [
    {
     "data": {
      "application/vnd.plotly.v1+json": {
       "config": {
        "plotlyServerURL": "https://plot.ly"
       },
       "data": [
        {
         "link": {
          "color": [
           "lightgray",
           "lightgray",
           "lightgray",
           "lightgray",
           "lightgray",
           "lightgray",
           "lightgray",
           "lightgray",
           "lightgray",
           "lightgray",
           "lightgray",
           "lightgray",
           "lightgray",
           "lightgray"
          ],
          "source": [
           0,
           0,
           1,
           1,
           2,
           2,
           2,
           2,
           2,
           3,
           3,
           3,
           3,
           3
          ],
          "target": [
           2,
           3,
           2,
           3,
           4,
           5,
           6,
           7,
           8,
           4,
           5,
           6,
           7,
           8
          ],
          "value": [
           843,
           1166,
           1950,
           2648,
           30,
           2081,
           661,
           8,
           12,
           38,
           2833,
           916,
           18,
           9
          ]
         },
         "node": {
          "color": [
           "blue",
           "blue",
           "green",
           "green",
           "orange",
           "orange",
           "orange",
           "orange",
           "orange"
          ],
          "label": [
           "Private",
           "Public",
           "Female",
           "Male",
           "0-59",
           "60-69",
           "70-79",
           "80-89",
           "90-100"
          ],
          "line": {
           "color": "black",
           "width": 0.5
          },
          "pad": 20,
          "thickness": 20
         },
         "type": "sankey"
        }
       ],
       "layout": {
        "font": {
         "size": 12
        },
        "height": 665,
        "margin": {
         "b": 20,
         "l": 20,
         "r": 20,
         "t": 40
        },
        "template": {
         "data": {
          "bar": [
           {
            "error_x": {
             "color": "#2a3f5f"
            },
            "error_y": {
             "color": "#2a3f5f"
            },
            "marker": {
             "line": {
              "color": "#E5ECF6",
              "width": 0.5
             },
             "pattern": {
              "fillmode": "overlay",
              "size": 10,
              "solidity": 0.2
             }
            },
            "type": "bar"
           }
          ],
          "barpolar": [
           {
            "marker": {
             "line": {
              "color": "#E5ECF6",
              "width": 0.5
             },
             "pattern": {
              "fillmode": "overlay",
              "size": 10,
              "solidity": 0.2
             }
            },
            "type": "barpolar"
           }
          ],
          "carpet": [
           {
            "aaxis": {
             "endlinecolor": "#2a3f5f",
             "gridcolor": "white",
             "linecolor": "white",
             "minorgridcolor": "white",
             "startlinecolor": "#2a3f5f"
            },
            "baxis": {
             "endlinecolor": "#2a3f5f",
             "gridcolor": "white",
             "linecolor": "white",
             "minorgridcolor": "white",
             "startlinecolor": "#2a3f5f"
            },
            "type": "carpet"
           }
          ],
          "choropleth": [
           {
            "colorbar": {
             "outlinewidth": 0,
             "ticks": ""
            },
            "type": "choropleth"
           }
          ],
          "contour": [
           {
            "colorbar": {
             "outlinewidth": 0,
             "ticks": ""
            },
            "colorscale": [
             [
              0,
              "#0d0887"
             ],
             [
              0.1111111111111111,
              "#46039f"
             ],
             [
              0.2222222222222222,
              "#7201a8"
             ],
             [
              0.3333333333333333,
              "#9c179e"
             ],
             [
              0.4444444444444444,
              "#bd3786"
             ],
             [
              0.5555555555555556,
              "#d8576b"
             ],
             [
              0.6666666666666666,
              "#ed7953"
             ],
             [
              0.7777777777777778,
              "#fb9f3a"
             ],
             [
              0.8888888888888888,
              "#fdca26"
             ],
             [
              1,
              "#f0f921"
             ]
            ],
            "type": "contour"
           }
          ],
          "contourcarpet": [
           {
            "colorbar": {
             "outlinewidth": 0,
             "ticks": ""
            },
            "type": "contourcarpet"
           }
          ],
          "heatmap": [
           {
            "colorbar": {
             "outlinewidth": 0,
             "ticks": ""
            },
            "colorscale": [
             [
              0,
              "#0d0887"
             ],
             [
              0.1111111111111111,
              "#46039f"
             ],
             [
              0.2222222222222222,
              "#7201a8"
             ],
             [
              0.3333333333333333,
              "#9c179e"
             ],
             [
              0.4444444444444444,
              "#bd3786"
             ],
             [
              0.5555555555555556,
              "#d8576b"
             ],
             [
              0.6666666666666666,
              "#ed7953"
             ],
             [
              0.7777777777777778,
              "#fb9f3a"
             ],
             [
              0.8888888888888888,
              "#fdca26"
             ],
             [
              1,
              "#f0f921"
             ]
            ],
            "type": "heatmap"
           }
          ],
          "histogram": [
           {
            "marker": {
             "pattern": {
              "fillmode": "overlay",
              "size": 10,
              "solidity": 0.2
             }
            },
            "type": "histogram"
           }
          ],
          "histogram2d": [
           {
            "colorbar": {
             "outlinewidth": 0,
             "ticks": ""
            },
            "colorscale": [
             [
              0,
              "#0d0887"
             ],
             [
              0.1111111111111111,
              "#46039f"
             ],
             [
              0.2222222222222222,
              "#7201a8"
             ],
             [
              0.3333333333333333,
              "#9c179e"
             ],
             [
              0.4444444444444444,
              "#bd3786"
             ],
             [
              0.5555555555555556,
              "#d8576b"
             ],
             [
              0.6666666666666666,
              "#ed7953"
             ],
             [
              0.7777777777777778,
              "#fb9f3a"
             ],
             [
              0.8888888888888888,
              "#fdca26"
             ],
             [
              1,
              "#f0f921"
             ]
            ],
            "type": "histogram2d"
           }
          ],
          "histogram2dcontour": [
           {
            "colorbar": {
             "outlinewidth": 0,
             "ticks": ""
            },
            "colorscale": [
             [
              0,
              "#0d0887"
             ],
             [
              0.1111111111111111,
              "#46039f"
             ],
             [
              0.2222222222222222,
              "#7201a8"
             ],
             [
              0.3333333333333333,
              "#9c179e"
             ],
             [
              0.4444444444444444,
              "#bd3786"
             ],
             [
              0.5555555555555556,
              "#d8576b"
             ],
             [
              0.6666666666666666,
              "#ed7953"
             ],
             [
              0.7777777777777778,
              "#fb9f3a"
             ],
             [
              0.8888888888888888,
              "#fdca26"
             ],
             [
              1,
              "#f0f921"
             ]
            ],
            "type": "histogram2dcontour"
           }
          ],
          "mesh3d": [
           {
            "colorbar": {
             "outlinewidth": 0,
             "ticks": ""
            },
            "type": "mesh3d"
           }
          ],
          "parcoords": [
           {
            "line": {
             "colorbar": {
              "outlinewidth": 0,
              "ticks": ""
             }
            },
            "type": "parcoords"
           }
          ],
          "pie": [
           {
            "automargin": true,
            "type": "pie"
           }
          ],
          "scatter": [
           {
            "fillpattern": {
             "fillmode": "overlay",
             "size": 10,
             "solidity": 0.2
            },
            "type": "scatter"
           }
          ],
          "scatter3d": [
           {
            "line": {
             "colorbar": {
              "outlinewidth": 0,
              "ticks": ""
             }
            },
            "marker": {
             "colorbar": {
              "outlinewidth": 0,
              "ticks": ""
             }
            },
            "type": "scatter3d"
           }
          ],
          "scattercarpet": [
           {
            "marker": {
             "colorbar": {
              "outlinewidth": 0,
              "ticks": ""
             }
            },
            "type": "scattercarpet"
           }
          ],
          "scattergeo": [
           {
            "marker": {
             "colorbar": {
              "outlinewidth": 0,
              "ticks": ""
             }
            },
            "type": "scattergeo"
           }
          ],
          "scattergl": [
           {
            "marker": {
             "colorbar": {
              "outlinewidth": 0,
              "ticks": ""
             }
            },
            "type": "scattergl"
           }
          ],
          "scattermap": [
           {
            "marker": {
             "colorbar": {
              "outlinewidth": 0,
              "ticks": ""
             }
            },
            "type": "scattermap"
           }
          ],
          "scattermapbox": [
           {
            "marker": {
             "colorbar": {
              "outlinewidth": 0,
              "ticks": ""
             }
            },
            "type": "scattermapbox"
           }
          ],
          "scatterpolar": [
           {
            "marker": {
             "colorbar": {
              "outlinewidth": 0,
              "ticks": ""
             }
            },
            "type": "scatterpolar"
           }
          ],
          "scatterpolargl": [
           {
            "marker": {
             "colorbar": {
              "outlinewidth": 0,
              "ticks": ""
             }
            },
            "type": "scatterpolargl"
           }
          ],
          "scatterternary": [
           {
            "marker": {
             "colorbar": {
              "outlinewidth": 0,
              "ticks": ""
             }
            },
            "type": "scatterternary"
           }
          ],
          "surface": [
           {
            "colorbar": {
             "outlinewidth": 0,
             "ticks": ""
            },
            "colorscale": [
             [
              0,
              "#0d0887"
             ],
             [
              0.1111111111111111,
              "#46039f"
             ],
             [
              0.2222222222222222,
              "#7201a8"
             ],
             [
              0.3333333333333333,
              "#9c179e"
             ],
             [
              0.4444444444444444,
              "#bd3786"
             ],
             [
              0.5555555555555556,
              "#d8576b"
             ],
             [
              0.6666666666666666,
              "#ed7953"
             ],
             [
              0.7777777777777778,
              "#fb9f3a"
             ],
             [
              0.8888888888888888,
              "#fdca26"
             ],
             [
              1,
              "#f0f921"
             ]
            ],
            "type": "surface"
           }
          ],
          "table": [
           {
            "cells": {
             "fill": {
              "color": "#EBF0F8"
             },
             "line": {
              "color": "white"
             }
            },
            "header": {
             "fill": {
              "color": "#C8D4E3"
             },
             "line": {
              "color": "white"
             }
            },
            "type": "table"
           }
          ]
         },
         "layout": {
          "annotationdefaults": {
           "arrowcolor": "#2a3f5f",
           "arrowhead": 0,
           "arrowwidth": 1
          },
          "autotypenumbers": "strict",
          "coloraxis": {
           "colorbar": {
            "outlinewidth": 0,
            "ticks": ""
           }
          },
          "colorscale": {
           "diverging": [
            [
             0,
             "#8e0152"
            ],
            [
             0.1,
             "#c51b7d"
            ],
            [
             0.2,
             "#de77ae"
            ],
            [
             0.3,
             "#f1b6da"
            ],
            [
             0.4,
             "#fde0ef"
            ],
            [
             0.5,
             "#f7f7f7"
            ],
            [
             0.6,
             "#e6f5d0"
            ],
            [
             0.7,
             "#b8e186"
            ],
            [
             0.8,
             "#7fbc41"
            ],
            [
             0.9,
             "#4d9221"
            ],
            [
             1,
             "#276419"
            ]
           ],
           "sequential": [
            [
             0,
             "#0d0887"
            ],
            [
             0.1111111111111111,
             "#46039f"
            ],
            [
             0.2222222222222222,
             "#7201a8"
            ],
            [
             0.3333333333333333,
             "#9c179e"
            ],
            [
             0.4444444444444444,
             "#bd3786"
            ],
            [
             0.5555555555555556,
             "#d8576b"
            ],
            [
             0.6666666666666666,
             "#ed7953"
            ],
            [
             0.7777777777777778,
             "#fb9f3a"
            ],
            [
             0.8888888888888888,
             "#fdca26"
            ],
            [
             1,
             "#f0f921"
            ]
           ],
           "sequentialminus": [
            [
             0,
             "#0d0887"
            ],
            [
             0.1111111111111111,
             "#46039f"
            ],
            [
             0.2222222222222222,
             "#7201a8"
            ],
            [
             0.3333333333333333,
             "#9c179e"
            ],
            [
             0.4444444444444444,
             "#bd3786"
            ],
            [
             0.5555555555555556,
             "#d8576b"
            ],
            [
             0.6666666666666666,
             "#ed7953"
            ],
            [
             0.7777777777777778,
             "#fb9f3a"
            ],
            [
             0.8888888888888888,
             "#fdca26"
            ],
            [
             1,
             "#f0f921"
            ]
           ]
          },
          "colorway": [
           "#636efa",
           "#EF553B",
           "#00cc96",
           "#ab63fa",
           "#FFA15A",
           "#19d3f3",
           "#FF6692",
           "#B6E880",
           "#FF97FF",
           "#FECB52"
          ],
          "font": {
           "color": "#2a3f5f"
          },
          "geo": {
           "bgcolor": "white",
           "lakecolor": "white",
           "landcolor": "#E5ECF6",
           "showlakes": true,
           "showland": true,
           "subunitcolor": "white"
          },
          "hoverlabel": {
           "align": "left"
          },
          "hovermode": "closest",
          "mapbox": {
           "style": "light"
          },
          "paper_bgcolor": "white",
          "plot_bgcolor": "#E5ECF6",
          "polar": {
           "angularaxis": {
            "gridcolor": "white",
            "linecolor": "white",
            "ticks": ""
           },
           "bgcolor": "#E5ECF6",
           "radialaxis": {
            "gridcolor": "white",
            "linecolor": "white",
            "ticks": ""
           }
          },
          "scene": {
           "xaxis": {
            "backgroundcolor": "#E5ECF6",
            "gridcolor": "white",
            "gridwidth": 2,
            "linecolor": "white",
            "showbackground": true,
            "ticks": "",
            "zerolinecolor": "white"
           },
           "yaxis": {
            "backgroundcolor": "#E5ECF6",
            "gridcolor": "white",
            "gridwidth": 2,
            "linecolor": "white",
            "showbackground": true,
            "ticks": "",
            "zerolinecolor": "white"
           },
           "zaxis": {
            "backgroundcolor": "#E5ECF6",
            "gridcolor": "white",
            "gridwidth": 2,
            "linecolor": "white",
            "showbackground": true,
            "ticks": "",
            "zerolinecolor": "white"
           }
          },
          "shapedefaults": {
           "line": {
            "color": "#2a3f5f"
           }
          },
          "ternary": {
           "aaxis": {
            "gridcolor": "white",
            "linecolor": "white",
            "ticks": ""
           },
           "baxis": {
            "gridcolor": "white",
            "linecolor": "white",
            "ticks": ""
           },
           "bgcolor": "#E5ECF6",
           "caxis": {
            "gridcolor": "white",
            "linecolor": "white",
            "ticks": ""
           }
          },
          "title": {
           "x": 0.05
          },
          "xaxis": {
           "automargin": true,
           "gridcolor": "white",
           "linecolor": "white",
           "ticks": "",
           "title": {
            "standoff": 15
           },
           "zerolinecolor": "white",
           "zerolinewidth": 2
          },
          "yaxis": {
           "automargin": true,
           "gridcolor": "white",
           "linecolor": "white",
           "ticks": "",
           "title": {
            "standoff": 15
           },
           "zerolinecolor": "white",
           "zerolinewidth": 2
          }
         }
        },
        "title": {
         "text": "Sankey Diagram: School Type → Gender → Score Group"
        },
        "width": 1000
       }
      }
     },
     "metadata": {},
     "output_type": "display_data"
    }
   ],
   "source": [
    "# SANKEY DIAGRAM\n",
    "\n",
    "def score_group(score):\n",
    "    if 0 <= score < 60: \n",
    "        return '0-59'\n",
    "    elif 60 <= score < 70: \n",
    "        return '60-69'\n",
    "    elif 70 <= score < 80: \n",
    "        return '70-79'\n",
    "    elif 80 <= score < 90: \n",
    "        return '80-89'\n",
    "    elif 90 <= score <= 100: \n",
    "        return '90-100'\n",
    "\n",
    "df['Score Group'] = df['Exam_Score'].apply(score_group)\n",
    "\n",
    "\n",
    "layer1 = df.groupby(['School_Type', 'Gender']).size().reset_index(name='count1')\n",
    "layer2 = df.groupby(['Gender', 'Score Group']).size().reset_index(name='count2')\n",
    "\n",
    "school_types = sorted(layer1['School_Type'].unique())\n",
    "genders = sorted(layer1['Gender'].unique())\n",
    "\n",
    "score_groups = ['0-59', '60-69', '70-79', '80-89', '90-100']\n",
    "\n",
    "labels = school_types + genders + score_groups\n",
    "label_to_index = {label: i for i, label in enumerate(labels)}\n",
    "\n",
    "# Build links for the first and second layers\n",
    "\n",
    "source1 = layer1['School_Type'].map(label_to_index)\n",
    "target1 = layer1['Gender'].map(label_to_index)\n",
    "value1  = layer1['count1']\n",
    "\n",
    "# 2nd\n",
    "source2 = layer2['Gender'].map(label_to_index)\n",
    "target2 = layer2['Score Group'].map(label_to_index)\n",
    "value2  = layer2['count2']\n",
    "\n",
    "# combining\n",
    "source = list(source1) + list(source2)\n",
    "target = list(target1) + list(target2)\n",
    "value  = list(value1)  + list(value2)\n",
    "\n",
    "node_colors = []\n",
    "for label in labels:\n",
    "    if label in school_types:\n",
    "         node_colors.append(\"blue\")\n",
    "    elif label in genders:\n",
    "         node_colors.append(\"green\")\n",
    "    elif label in score_groups:\n",
    "         node_colors.append(\"orange\")\n",
    "\n",
    "link_c = \"lightgray\"\n",
    "link_colors = [link_c] * len(source)\n",
    "\n",
    "\n",
    "fig = go.Figure(go.Sankey(\n",
    "    node=dict(\n",
    "        pad=20,\n",
    "        thickness=20,\n",
    "        line=dict(color=\"black\", width=0.5),\n",
    "        label=labels,\n",
    "        color=node_colors\n",
    "    ),\n",
    "    link=dict(\n",
    "        source=source,\n",
    "        target=target,\n",
    "        value=value,\n",
    "        color=link_colors\n",
    "    )\n",
    "))\n",
    "\n",
    "fig.update_layout(\n",
    "    title_text=\"Sankey Diagram: School Type → Gender → Score Group\",\n",
    "    font=dict(size=12),\n",
    "    width=1000,\n",
    "    height=665,\n",
    "    margin=dict(l=20, r=20, t=40, b=20)\n",
    ")\n",
    "\n",
    "fig.show()\n"
   ]
  },
  {
   "cell_type": "code",
   "execution_count": 4,
   "metadata": {},
   "outputs": [
    {
     "data": {
      "text/html": [
       "\n",
       "<style>\n",
       "  #altair-viz-4380486ad1b6429ba5e3adde881ac0a3.vega-embed {\n",
       "    width: 100%;\n",
       "    display: flex;\n",
       "  }\n",
       "\n",
       "  #altair-viz-4380486ad1b6429ba5e3adde881ac0a3.vega-embed details,\n",
       "  #altair-viz-4380486ad1b6429ba5e3adde881ac0a3.vega-embed details summary {\n",
       "    position: relative;\n",
       "  }\n",
       "</style>\n",
       "<div id=\"altair-viz-4380486ad1b6429ba5e3adde881ac0a3\"></div>\n",
       "<script type=\"text/javascript\">\n",
       "  var VEGA_DEBUG = (typeof VEGA_DEBUG == \"undefined\") ? {} : VEGA_DEBUG;\n",
       "  (function(spec, embedOpt){\n",
       "    let outputDiv = document.currentScript.previousElementSibling;\n",
       "    if (outputDiv.id !== \"altair-viz-4380486ad1b6429ba5e3adde881ac0a3\") {\n",
       "      outputDiv = document.getElementById(\"altair-viz-4380486ad1b6429ba5e3adde881ac0a3\");\n",
       "    }\n",
       "\n",
       "    const paths = {\n",
       "      \"vega\": \"https://cdn.jsdelivr.net/npm/vega@5?noext\",\n",
       "      \"vega-lib\": \"https://cdn.jsdelivr.net/npm/vega-lib?noext\",\n",
       "      \"vega-lite\": \"https://cdn.jsdelivr.net/npm/vega-lite@5.20.1?noext\",\n",
       "      \"vega-embed\": \"https://cdn.jsdelivr.net/npm/vega-embed@6?noext\",\n",
       "    };\n",
       "\n",
       "    function maybeLoadScript(lib, version) {\n",
       "      var key = `${lib.replace(\"-\", \"\")}_version`;\n",
       "      return (VEGA_DEBUG[key] == version) ?\n",
       "        Promise.resolve(paths[lib]) :\n",
       "        new Promise(function(resolve, reject) {\n",
       "          var s = document.createElement('script');\n",
       "          document.getElementsByTagName(\"head\")[0].appendChild(s);\n",
       "          s.async = true;\n",
       "          s.onload = () => {\n",
       "            VEGA_DEBUG[key] = version;\n",
       "            return resolve(paths[lib]);\n",
       "          };\n",
       "          s.onerror = () => reject(`Error loading script: ${paths[lib]}`);\n",
       "          s.src = paths[lib];\n",
       "        });\n",
       "    }\n",
       "\n",
       "    function showError(err) {\n",
       "      outputDiv.innerHTML = `<div class=\"error\" style=\"color:red;\">${err}</div>`;\n",
       "      throw err;\n",
       "    }\n",
       "\n",
       "    function displayChart(vegaEmbed) {\n",
       "      vegaEmbed(outputDiv, spec, embedOpt)\n",
       "        .catch(err => showError(`Javascript Error: ${err.message}<br>This usually means there's a typo in your chart specification. See the javascript console for the full traceback.`));\n",
       "    }\n",
       "\n",
       "    if(typeof define === \"function\" && define.amd) {\n",
       "      requirejs.config({paths});\n",
       "      let deps = [\"vega-embed\"];\n",
       "      require(deps, displayChart, err => showError(`Error loading script: ${err.message}`));\n",
       "    } else {\n",
       "      maybeLoadScript(\"vega\", \"5\")\n",
       "        .then(() => maybeLoadScript(\"vega-lite\", \"5.20.1\"))\n",
       "        .then(() => maybeLoadScript(\"vega-embed\", \"6\"))\n",
       "        .catch(showError)\n",
       "        .then(() => displayChart(vegaEmbed));\n",
       "    }\n",
       "  })({\"config\": {\"view\": {\"continuousWidth\": 300, \"continuousHeight\": 300}}, \"layer\": [{\"mark\": {\"type\": \"rect\"}, \"encoding\": {\"color\": {\"field\": \"Correlation\", \"scale\": {\"domain\": [-0.8, 0.8], \"scheme\": \"redblue\"}, \"type\": \"quantitative\"}, \"tooltip\": [{\"field\": \"Feature1\", \"type\": \"nominal\"}, {\"field\": \"Feature2\", \"type\": \"nominal\"}, {\"field\": \"Correlation\", \"format\": \".2f\", \"type\": \"quantitative\"}], \"x\": {\"axis\": {\"labelAngle\": -45}, \"field\": \"Feature2\", \"title\": \"Features\", \"type\": \"nominal\"}, \"y\": {\"field\": \"Feature1\", \"title\": \"Features\", \"type\": \"nominal\"}}, \"title\": \"Feature Correlation Matrix\"}, {\"mark\": {\"type\": \"text\"}, \"encoding\": {\"color\": {\"condition\": {\"test\": \"datum.Correlation > 0.3 || datum.Correlation < -0.3\", \"value\": \"white\"}, \"value\": \"black\"}, \"text\": {\"field\": \"Correlation\", \"format\": \".2f\", \"type\": \"quantitative\"}, \"x\": {\"field\": \"Feature2\", \"type\": \"nominal\"}, \"y\": {\"field\": \"Feature1\", \"type\": \"nominal\"}}}], \"data\": {\"name\": \"data-195180cace7ff5fcfb825c8727763002\"}, \"height\": 560, \"width\": 810, \"$schema\": \"https://vega.github.io/schema/vega-lite/v5.20.1.json\", \"datasets\": {\"data-195180cace7ff5fcfb825c8727763002\": [{\"Feature1\": \"Hours_Studied\", \"Feature2\": \"Hours_Studied\", \"Correlation\": 1.0}, {\"Feature1\": \"Attendance\", \"Feature2\": \"Hours_Studied\", \"Correlation\": -0.009907859200133573}, {\"Feature1\": \"Sleep_Hours\", \"Feature2\": \"Hours_Studied\", \"Correlation\": 0.010976689296114167}, {\"Feature1\": \"Previous_Scores\", \"Feature2\": \"Hours_Studied\", \"Correlation\": 0.024845782067961335}, {\"Feature1\": \"Tutoring_Sessions\", \"Feature2\": \"Hours_Studied\", \"Correlation\": -0.014282264334903245}, {\"Feature1\": \"Physical_Activity\", \"Feature2\": \"Hours_Studied\", \"Correlation\": 0.004624390272586104}, {\"Feature1\": \"Exam_Score\", \"Feature2\": \"Hours_Studied\", \"Correlation\": 0.44545495407528174}, {\"Feature1\": \"Hours_Studied\", \"Feature2\": \"Attendance\", \"Correlation\": -0.009907859200133573}, {\"Feature1\": \"Attendance\", \"Feature2\": \"Attendance\", \"Correlation\": 1.0}, {\"Feature1\": \"Sleep_Hours\", \"Feature2\": \"Attendance\", \"Correlation\": -0.01591782576568073}, {\"Feature1\": \"Previous_Scores\", \"Feature2\": \"Attendance\", \"Correlation\": -0.020186102959987302}, {\"Feature1\": \"Tutoring_Sessions\", \"Feature2\": \"Attendance\", \"Correlation\": 0.014323509499262678}, {\"Feature1\": \"Physical_Activity\", \"Feature2\": \"Attendance\", \"Correlation\": -0.022434702703492678}, {\"Feature1\": \"Exam_Score\", \"Feature2\": \"Attendance\", \"Correlation\": 0.5810718633120634}, {\"Feature1\": \"Hours_Studied\", \"Feature2\": \"Sleep_Hours\", \"Correlation\": 0.010976689296114167}, {\"Feature1\": \"Attendance\", \"Feature2\": \"Sleep_Hours\", \"Correlation\": -0.01591782576568073}, {\"Feature1\": \"Sleep_Hours\", \"Feature2\": \"Sleep_Hours\", \"Correlation\": 1.0}, {\"Feature1\": \"Previous_Scores\", \"Feature2\": \"Sleep_Hours\", \"Correlation\": -0.021750343098425523}, {\"Feature1\": \"Tutoring_Sessions\", \"Feature2\": \"Sleep_Hours\", \"Correlation\": -0.012216112032957423}, {\"Feature1\": \"Physical_Activity\", \"Feature2\": \"Sleep_Hours\", \"Correlation\": -0.00037806520293002946}, {\"Feature1\": \"Exam_Score\", \"Feature2\": \"Sleep_Hours\", \"Correlation\": -0.017021628571502353}, {\"Feature1\": \"Hours_Studied\", \"Feature2\": \"Previous_Scores\", \"Correlation\": 0.024845782067961335}, {\"Feature1\": \"Attendance\", \"Feature2\": \"Previous_Scores\", \"Correlation\": -0.020186102959987302}, {\"Feature1\": \"Sleep_Hours\", \"Feature2\": \"Previous_Scores\", \"Correlation\": -0.021750343098425523}, {\"Feature1\": \"Previous_Scores\", \"Feature2\": \"Previous_Scores\", \"Correlation\": 1.0}, {\"Feature1\": \"Tutoring_Sessions\", \"Feature2\": \"Previous_Scores\", \"Correlation\": -0.013122325694712535}, {\"Feature1\": \"Physical_Activity\", \"Feature2\": \"Previous_Scores\", \"Correlation\": -0.011273733910109123}, {\"Feature1\": \"Exam_Score\", \"Feature2\": \"Previous_Scores\", \"Correlation\": 0.175079087022911}, {\"Feature1\": \"Hours_Studied\", \"Feature2\": \"Tutoring_Sessions\", \"Correlation\": -0.014282264334903245}, {\"Feature1\": \"Attendance\", \"Feature2\": \"Tutoring_Sessions\", \"Correlation\": 0.014323509499262678}, {\"Feature1\": \"Sleep_Hours\", \"Feature2\": \"Tutoring_Sessions\", \"Correlation\": -0.012216112032957423}, {\"Feature1\": \"Previous_Scores\", \"Feature2\": \"Tutoring_Sessions\", \"Correlation\": -0.013122325694712535}, {\"Feature1\": \"Tutoring_Sessions\", \"Feature2\": \"Tutoring_Sessions\", \"Correlation\": 1.0}, {\"Feature1\": \"Physical_Activity\", \"Feature2\": \"Tutoring_Sessions\", \"Correlation\": 0.017732945340729694}, {\"Feature1\": \"Exam_Score\", \"Feature2\": \"Tutoring_Sessions\", \"Correlation\": 0.1565251853922524}, {\"Feature1\": \"Hours_Studied\", \"Feature2\": \"Physical_Activity\", \"Correlation\": 0.004624390272586104}, {\"Feature1\": \"Attendance\", \"Feature2\": \"Physical_Activity\", \"Correlation\": -0.022434702703492678}, {\"Feature1\": \"Sleep_Hours\", \"Feature2\": \"Physical_Activity\", \"Correlation\": -0.00037806520293002946}, {\"Feature1\": \"Previous_Scores\", \"Feature2\": \"Physical_Activity\", \"Correlation\": -0.011273733910109123}, {\"Feature1\": \"Tutoring_Sessions\", \"Feature2\": \"Physical_Activity\", \"Correlation\": 0.017732945340729694}, {\"Feature1\": \"Physical_Activity\", \"Feature2\": \"Physical_Activity\", \"Correlation\": 1.0}, {\"Feature1\": \"Exam_Score\", \"Feature2\": \"Physical_Activity\", \"Correlation\": 0.0278244361802574}, {\"Feature1\": \"Hours_Studied\", \"Feature2\": \"Exam_Score\", \"Correlation\": 0.44545495407528174}, {\"Feature1\": \"Attendance\", \"Feature2\": \"Exam_Score\", \"Correlation\": 0.5810718633120634}, {\"Feature1\": \"Sleep_Hours\", \"Feature2\": \"Exam_Score\", \"Correlation\": -0.017021628571502353}, {\"Feature1\": \"Previous_Scores\", \"Feature2\": \"Exam_Score\", \"Correlation\": 0.175079087022911}, {\"Feature1\": \"Tutoring_Sessions\", \"Feature2\": \"Exam_Score\", \"Correlation\": 0.1565251853922524}, {\"Feature1\": \"Physical_Activity\", \"Feature2\": \"Exam_Score\", \"Correlation\": 0.0278244361802574}, {\"Feature1\": \"Exam_Score\", \"Feature2\": \"Exam_Score\", \"Correlation\": 1.0}]}}, {\"mode\": \"vega-lite\"});\n",
       "</script>"
      ],
      "text/plain": [
       "alt.LayerChart(...)"
      ]
     },
     "execution_count": 4,
     "metadata": {},
     "output_type": "execute_result"
    }
   ],
   "source": [
    "# CORRELATION HEATMAP\n",
    "\n",
    "df_numeric = df.select_dtypes(include='number')\n",
    "corr = df_numeric.corr()\n",
    "\n",
    "corr_long = corr.reset_index().melt(id_vars='index',\n",
    "                                     var_name='Feature2',\n",
    "                                     value_name='Correlation')\n",
    "corr_long.rename(columns={'index': 'Feature1'}, inplace=True)\n",
    "\n",
    "\n",
    "heatmap = alt.Chart(corr_long).mark_rect().encode(\n",
    "    x=alt.X('Feature2:N', \n",
    "            title='Features',\n",
    "            axis=alt.Axis(labelAngle=-45)),\n",
    "    y=alt.Y('Feature1:N', \n",
    "            title='Features'),\n",
    "    color=alt.Color('Correlation:Q',\n",
    "                    scale=alt.Scale(scheme='redblue', domain=(-0.8, 0.8))),\n",
    "    tooltip=[\n",
    "        'Feature1', \n",
    "        'Feature2', \n",
    "        alt.Tooltip('Correlation:Q', format='.2f')\n",
    "    ]\n",
    ").properties(\n",
    "    width=810,\n",
    "    height=560,\n",
    "    title='Feature Correlation Matrix'\n",
    ")\n",
    "\n",
    "text = alt.Chart(corr_long).mark_text().encode(\n",
    "    x='Feature2:N',\n",
    "    y='Feature1:N',\n",
    "    text=alt.Text('Correlation:Q', format='.2f'),\n",
    "    color=alt.condition(\n",
    "        \"datum.Correlation > 0.3 || datum.Correlation < -0.3\",\n",
    "        alt.value('white'),\n",
    "        alt.value('black')\n",
    "    )\n",
    ")\n",
    "\n",
    "\n",
    "corr_heatmap = heatmap + text\n",
    "corr_heatmap\n",
    "\n",
    "#corr_heatmap.save('vis3.html')"
   ]
  },
  {
   "cell_type": "code",
   "execution_count": 5,
   "metadata": {},
   "outputs": [
    {
     "name": "stderr",
     "output_type": "stream",
     "text": [
      "/var/folders/hw/_n4hw2nn3l55s0ckr_ym870h0000gn/T/ipykernel_34903/1971342225.py:14: FutureWarning:\n",
      "\n",
      "\n",
      "\n",
      "Passing `palette` without assigning `hue` is deprecated and will be removed in v0.14.0. Assign the `x` variable to `hue` and set `legend=False` for the same effect.\n",
      "\n",
      "\n"
     ]
    },
    {
     "data": {
      "image/png": "[encoded data removed]",
      "text/plain": [
       "<Figure size 1000x700 with 1 Axes>"
      ]
     },
     "metadata": {},
     "output_type": "display_data"
    }
   ],
   "source": [
    "# Attendance Boxplot\n",
    "\n",
    "bins = [59, 70, 80, 90, 100]\n",
    "labels = ['60-70%', '71-80%', '81-90%', '91-100%']\n",
    "df['Attendance_Bin'] = pd.cut(df['Attendance'], bins=bins, labels=labels, include_lowest=True)\n",
    "\n",
    "# Order for the x-axis categories\n",
    "category_order = labels\n",
    "\n",
    "sns.set_theme(style=\"whitegrid\", font_scale=1.2)\n",
    "\n",
    "medianprops = dict(linestyle='-', linewidth=3, color='red')\n",
    "plt.figure(figsize=(10, 7))\n",
    "ax = sns.boxplot(\n",
    "    x=\"Attendance_Bin\", \n",
    "    y=\"Exam_Score\", \n",
    "    data=df, \n",
    "    order=category_order, \n",
    "    palette=\"Blues\",\n",
    "    medianprops=medianprops,\n",
    "    showfliers=False\n",
    ")\n",
    "\n",
    "ax.set_title(\"Distribution of Final Exam Scores by Attendance Level\", fontsize=16)\n",
    "ax.set_xlabel(\"Attendance (%)\")\n",
    "ax.set_ylabel(\"Final Exam Score\")\n",
    "\n",
    "plt.show()\n",
    "\n",
    "#plt.savefig(\"vis5.png\")"
   ]
  }
 ],
 "metadata": {
  "kernelspec": {
   "display_name": "Python 3",
   "language": "python",
   "name": "python3"
  },
  "language_info": {
   "codemirror_mode": {
    "name": "ipython",
    "version": 3
   },
   "file_extension": ".py",
   "mimetype": "text/x-python",
   "name": "python",
   "nbconvert_exporter": "python",
   "pygments_lexer": "ipython3",
   "version": "3.9.6"
  }
 },
 "nbformat": 4,
 "nbformat_minor": 2
}
